{
  "cells": [
    {
      "cell_type": "markdown",
      "metadata": {
        "id": "view-in-github",
        "colab_type": "text"
      },
      "source": [
        "<a href=\"https://colab.research.google.com/github/devMuriloOliveira/aula-pratica-python/blob/main/Damos_lhe_as_boas_vindas_ao_Colaboratory.ipynb\" target=\"_parent\"><img src=\"https://colab.research.google.com/assets/colab-badge.svg\" alt=\"Open In Colab\"/></a>"
      ]
    },
    {
      "cell_type": "code",
      "source": [
        "#metodo para calcular valor absoluto usando if else\n",
        "def abs_if_else(valor):\n",
        "  if valor < 0:\n",
        "    return -valor\n",
        "  else:\n",
        "    return valor"
      ],
      "metadata": {
        "id": "AodK4zfQOV6e"
      },
      "execution_count": 79,
      "outputs": []
    },
    {
      "cell_type": "code",
      "source": [
        "#metodo para calcular valor absoluto usando o operador ternario\n",
        "def abs_ternario(valor):\n",
        "  return -valor if valor < 0 else valor"
      ],
      "metadata": {
        "id": "oJM7rvsURU7b"
      },
      "execution_count": 80,
      "outputs": []
    },
    {
      "cell_type": "code",
      "source": [
        "#metodo para calcular somatorio de 0 ate n usando o for\n",
        "def somatorio_for(n):\n",
        "  soma = 0\n",
        "  for i in range(n + 1):\n",
        "    soma += i\n",
        "  return soma"
      ],
      "metadata": {
        "id": "0lSzNBltRxfT"
      },
      "execution_count": 81,
      "outputs": []
    },
    {
      "cell_type": "code",
      "source": [
        "#metodo para calcular somatorio de 0 ate n usando o while\n",
        "def somatorio_while(n):\n",
        "  soma = 0\n",
        "  i = 0\n",
        "  while i <= n:\n",
        "    soma += i\n",
        "    i += 1\n",
        "  return soma"
      ],
      "metadata": {
        "id": "LSbdjKgpSlvC"
      },
      "execution_count": 82,
      "outputs": []
    },
    {
      "cell_type": "markdown",
      "source": [],
      "metadata": {
        "id": "qX2XQ4ifTp4B"
      }
    },
    {
      "cell_type": "code",
      "source": [
        "#metodo para calcular somatorio de 0 ate n usando o do while\n",
        "def somatorio_dowhile(n):\n",
        "  soma = 0\n",
        "  i = 0\n",
        "  while True:\n",
        "    soma += i\n",
        "    i += 1\n",
        "    if i > n:\n",
        "      break\n",
        "    return soma"
      ],
      "metadata": {
        "id": "4G7bbbf0Tl2h"
      },
      "execution_count": 83,
      "outputs": []
    },
    {
      "cell_type": "markdown",
      "source": [],
      "metadata": {
        "id": "6Dr7Zz-dTqJx"
      }
    },
    {
      "cell_type": "code",
      "source": [
        "#testes\n",
        "print(abs_if_else(5))\n",
        "print(abs_ternario(5))\n",
        "print(somatorio_for(5))\n",
        "print(somatorio_while(20))\n",
        "print(somatorio_dowhile(20))"
      ],
      "metadata": {
        "colab": {
          "base_uri": "https://localhost:8080/"
        },
        "id": "AAJLlwpKTgf5",
        "outputId": "714bcbe1-b744-4c87-e66b-0215e8e0915d"
      },
      "execution_count": 84,
      "outputs": [
        {
          "output_type": "stream",
          "name": "stdout",
          "text": [
            "5\n",
            "5\n",
            "15\n",
            "210\n",
            "0\n"
          ]
        }
      ]
    },
    {
      "cell_type": "code",
      "source": [],
      "metadata": {
        "id": "a_NdxK_tVs0w"
      },
      "execution_count": 84,
      "outputs": []
    }
  ],
  "metadata": {
    "colab": {
      "name": "Damos-lhe as boas-vindas ao Colaboratory",
      "toc_visible": true,
      "provenance": [],
      "include_colab_link": true
    },
    "kernelspec": {
      "display_name": "Python 3",
      "name": "python3"
    }
  },
  "nbformat": 4,
  "nbformat_minor": 0
}